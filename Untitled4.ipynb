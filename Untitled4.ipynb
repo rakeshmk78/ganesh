{
 "cells": [
  {
   "cell_type": "code",
   "execution_count": null,
   "id": "b29b63b6-2e0c-4e4c-8003-45c7d06ffe2e",
   "metadata": {},
   "outputs": [],
   "source": []
  }
 ],
 "metadata": {
  "kernelspec": {
   "display_name": "",
   "name": ""
  },
  "language_info": {
   "name": ""
  }
 },
 "nbformat": 4,
 "nbformat_minor": 5
}
