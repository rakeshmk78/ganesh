{
 "cells": [
  {
   "cell_type": "code",
   "execution_count": 3,
   "id": "079ed103-c209-4497-9d51-060d397b983b",
   "metadata": {},
   "outputs": [],
   "source": [
    "import pandas as pd "
   ]
  },
  {
   "cell_type": "code",
   "execution_count": 4,
   "id": "d2300eb6-8eef-408c-8e9d-7baab4ef9b55",
   "metadata": {},
   "outputs": [],
   "source": [
    "import numpy as np\n",
    "import matplotlib.pyplot as plt"
   ]
  },
  {
   "cell_type": "code",
   "execution_count": 5,
   "id": "e5835ca7-b5d5-42f9-ada5-455c0e510b3f",
   "metadata": {},
   "outputs": [],
   "source": [
    "df=pd.read_csv('C:/Users/Hi/Downloads/data_season 3.csv')"
   ]
  },
  {
   "cell_type": "code",
   "execution_count": 6,
   "id": "31c79b54-2740-443e-980e-077827aa9e07",
   "metadata": {},
   "outputs": [
    {
     "data": {
      "text/html": [
       "<div>\n",
       "<style scoped>\n",
       "    .dataframe tbody tr th:only-of-type {\n",
       "        vertical-align: middle;\n",
       "    }\n",
       "\n",
       "    .dataframe tbody tr th {\n",
       "        vertical-align: top;\n",
       "    }\n",
       "\n",
       "    .dataframe thead th {\n",
       "        text-align: right;\n",
       "    }\n",
       "</style>\n",
       "<table border=\"1\" class=\"dataframe\">\n",
       "  <thead>\n",
       "    <tr style=\"text-align: right;\">\n",
       "      <th></th>\n",
       "      <th>Year</th>\n",
       "      <th>Location</th>\n",
       "      <th>Area</th>\n",
       "      <th>Rainfall</th>\n",
       "      <th>Temperature</th>\n",
       "      <th>Soil type</th>\n",
       "      <th>Irrigation</th>\n",
       "      <th>yeilds</th>\n",
       "      <th>Humidity</th>\n",
       "      <th>Crops</th>\n",
       "      <th>price</th>\n",
       "      <th>Season</th>\n",
       "    </tr>\n",
       "  </thead>\n",
       "  <tbody>\n",
       "    <tr>\n",
       "      <th>0</th>\n",
       "      <td>2004</td>\n",
       "      <td>Mangalore</td>\n",
       "      <td>1279</td>\n",
       "      <td>2903.1</td>\n",
       "      <td>27.0</td>\n",
       "      <td>Alluvial</td>\n",
       "      <td>Drip</td>\n",
       "      <td>2570</td>\n",
       "      <td>57.0</td>\n",
       "      <td>Coconut</td>\n",
       "      <td>200000</td>\n",
       "      <td>Kharif</td>\n",
       "    </tr>\n",
       "    <tr>\n",
       "      <th>1</th>\n",
       "      <td>2004</td>\n",
       "      <td>Mangalore</td>\n",
       "      <td>13283</td>\n",
       "      <td>2903.1</td>\n",
       "      <td>27.0</td>\n",
       "      <td>Alluvial</td>\n",
       "      <td>Drip</td>\n",
       "      <td>27170</td>\n",
       "      <td>57.5</td>\n",
       "      <td>Coconut</td>\n",
       "      <td>4847</td>\n",
       "      <td>Kharif</td>\n",
       "    </tr>\n",
       "    <tr>\n",
       "      <th>2</th>\n",
       "      <td>2004</td>\n",
       "      <td>Mangalore</td>\n",
       "      <td>52119</td>\n",
       "      <td>2903.1</td>\n",
       "      <td>27.0</td>\n",
       "      <td>Alluvial</td>\n",
       "      <td>Drip</td>\n",
       "      <td>114744</td>\n",
       "      <td>57.0</td>\n",
       "      <td>Coconut</td>\n",
       "      <td>51239</td>\n",
       "      <td>Kharif</td>\n",
       "    </tr>\n",
       "    <tr>\n",
       "      <th>3</th>\n",
       "      <td>2004</td>\n",
       "      <td>Mangalore</td>\n",
       "      <td>725</td>\n",
       "      <td>2996.6</td>\n",
       "      <td>27.0</td>\n",
       "      <td>Alluvial</td>\n",
       "      <td>Drip</td>\n",
       "      <td>1402</td>\n",
       "      <td>55.0</td>\n",
       "      <td>Coconut</td>\n",
       "      <td>216396</td>\n",
       "      <td>Kharif</td>\n",
       "    </tr>\n",
       "  </tbody>\n",
       "</table>\n",
       "</div>"
      ],
      "text/plain": [
       "   Year   Location   Area  Rainfall  Temperature Soil type Irrigation  yeilds  \\\n",
       "0  2004  Mangalore   1279    2903.1         27.0  Alluvial       Drip    2570   \n",
       "1  2004  Mangalore  13283    2903.1         27.0  Alluvial       Drip   27170   \n",
       "2  2004  Mangalore  52119    2903.1         27.0  Alluvial       Drip  114744   \n",
       "3  2004  Mangalore    725    2996.6         27.0  Alluvial       Drip    1402   \n",
       "\n",
       "   Humidity    Crops   price  Season  \n",
       "0      57.0  Coconut  200000  Kharif  \n",
       "1      57.5  Coconut    4847  Kharif  \n",
       "2      57.0  Coconut   51239  Kharif  \n",
       "3      55.0  Coconut  216396  Kharif  "
      ]
     },
     "execution_count": 6,
     "metadata": {},
     "output_type": "execute_result"
    }
   ],
   "source": [
    "df.head(4)"
   ]
  },
  {
   "cell_type": "code",
   "execution_count": 7,
   "id": "fcd5d55e-21e5-498e-8c7e-faf3e50c1609",
   "metadata": {},
   "outputs": [
    {
     "data": {
      "text/plain": [
       "(73, 12)"
      ]
     },
     "execution_count": 7,
     "metadata": {},
     "output_type": "execute_result"
    }
   ],
   "source": [
    "df.shape"
   ]
  },
  {
   "cell_type": "code",
   "execution_count": 8,
   "id": "63b4c233-2c03-4b20-9d6a-df70f007f61f",
   "metadata": {},
   "outputs": [
    {
     "data": {
      "text/plain": [
       "Location\n",
       "Kodagu        18\n",
       "Madikeri      11\n",
       "Davangere     10\n",
       "Gulbarga       9\n",
       "Raichur        7\n",
       "Mysuru         7\n",
       "Kasaragodu     6\n",
       "Mangalore      5\n",
       "Name: count, dtype: int64"
      ]
     },
     "execution_count": 8,
     "metadata": {},
     "output_type": "execute_result"
    }
   ],
   "source": [
    "c=df['Location'].value_counts()\n",
    "c"
   ]
  },
  {
   "cell_type": "code",
   "execution_count": null,
   "id": "fcf3e664-01cc-4c04-a5eb-ee6f188d0b7e",
   "metadata": {},
   "outputs": [],
   "source": []
  },
  {
   "cell_type": "code",
   "execution_count": 9,
   "id": "dfefd8d1-78d0-4a24-9575-32ccca602351",
   "metadata": {},
   "outputs": [
    {
     "data": {
      "text/plain": [
       "<Axes: xlabel='Location'>"
      ]
     },
     "execution_count": 9,
     "metadata": {},
     "output_type": "execute_result"
    },
    {
     "data": {
      "image/png": "[encoded data removed]",
      "text/plain": [
       "<Figure size 640x480 with 1 Axes>"
      ]
     },
     "metadata": {},
     "output_type": "display_data"
    }
   ],
   "source": [
    "c.plot(kind=\"bar\")"
   ]
  },
  {
   "cell_type": "code",
   "execution_count": 10,
   "id": "b6d67418-b58c-4474-9091-11881f9aeaa7",
   "metadata": {},
   "outputs": [
    {
     "data": {
      "text/plain": [
       "<Axes: ylabel='count'>"
      ]
     },
     "execution_count": 10,
     "metadata": {},
     "output_type": "execute_result"
    },
    {
     "data": {
      "image/png": "[encoded data removed]",
      "text/plain": [
       "<Figure size 640x480 with 1 Axes>"
      ]
     },
     "metadata": {},
     "output_type": "display_data"
    }
   ],
   "source": [
    "c.plot(kind=\"pie\")"
   ]
  },
  {
   "cell_type": "code",
   "execution_count": null,
   "id": "7553bd5f-beba-4f78-a6f0-7450fbdbec2b",
   "metadata": {},
   "outputs": [],
   "source": [
    "dfgroupby"
   ]
  }
 ],
 "metadata": {
  "kernelspec": {
   "display_name": "Python 3 (ipykernel)",
   "language": "python",
   "name": "python3"
  },
  "language_info": {
   "codemirror_mode": {
    "name": "ipython",
    "version": 3
   },
   "file_extension": ".py",
   "mimetype": "text/x-python",
   "name": "python",
   "nbconvert_exporter": "python",
   "pygments_lexer": "ipython3",
   "version": "3.13.5"
  }
 },
 "nbformat": 4,
 "nbformat_minor": 5
}
