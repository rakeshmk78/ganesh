{
 "cells": [
  {
   "cell_type": "code",
   "execution_count": 2,
   "id": "6b567123-7498-4a08-92e1-0988aed219ae",
   "metadata": {},
   "outputs": [],
   "source": [
    "import pandas as pd\n",
    "import matplotlib.pyplot as plt"
   ]
  },
  {
   "cell_type": "code",
   "execution_count": 3,
   "id": "d2eb3347-c1b7-44e7-9c4d-fa7b3fbbf302",
   "metadata": {},
   "outputs": [],
   "source": [
    "df=pd.read_csv('C:/Users/Hi/Downloads/aggri.csv')"
   ]
  },
  {
   "cell_type": "code",
   "execution_count": 4,
   "id": "b68140f8-3ed0-473e-954f-3bb6c08fe4d6",
   "metadata": {},
   "outputs": [
    {
     "data": {
      "text/html": [
       "<div>\n",
       "<style scoped>\n",
       "    .dataframe tbody tr th:only-of-type {\n",
       "        vertical-align: middle;\n",
       "    }\n",
       "\n",
       "    .dataframe tbody tr th {\n",
       "        vertical-align: top;\n",
       "    }\n",
       "\n",
       "    .dataframe thead th {\n",
       "        text-align: right;\n",
       "    }\n",
       "</style>\n",
       "<table border=\"1\" class=\"dataframe\">\n",
       "  <thead>\n",
       "    <tr style=\"text-align: right;\">\n",
       "      <th></th>\n",
       "      <th>Years</th>\n",
       "      <th>District</th>\n",
       "      <th>Crops</th>\n",
       "      <th>Yield</th>\n",
       "      <th>Rainfall</th>\n",
       "      <th>Price</th>\n",
       "    </tr>\n",
       "  </thead>\n",
       "  <tbody>\n",
       "    <tr>\n",
       "      <th>0</th>\n",
       "      <td>2005-2010</td>\n",
       "      <td>bagalakote</td>\n",
       "      <td>cotton</td>\n",
       "      <td>12.2</td>\n",
       "      <td>34%</td>\n",
       "      <td>10000</td>\n",
       "    </tr>\n",
       "    <tr>\n",
       "      <th>1</th>\n",
       "      <td>2011-2015</td>\n",
       "      <td>bagalakote</td>\n",
       "      <td>sugarcane</td>\n",
       "      <td>11.3</td>\n",
       "      <td>58%</td>\n",
       "      <td>2000</td>\n",
       "    </tr>\n",
       "    <tr>\n",
       "      <th>2</th>\n",
       "      <td>2016-2020</td>\n",
       "      <td>bagalakote</td>\n",
       "      <td>maize</td>\n",
       "      <td>360%</td>\n",
       "      <td>23</td>\n",
       "      <td>4000</td>\n",
       "    </tr>\n",
       "    <tr>\n",
       "      <th>3</th>\n",
       "      <td>2005-2010</td>\n",
       "      <td>ballari</td>\n",
       "      <td>cotton</td>\n",
       "      <td>4</td>\n",
       "      <td>26%</td>\n",
       "      <td>10000</td>\n",
       "    </tr>\n",
       "    <tr>\n",
       "      <th>4</th>\n",
       "      <td>2011-2015</td>\n",
       "      <td>ballari</td>\n",
       "      <td>paddy</td>\n",
       "      <td>12.4</td>\n",
       "      <td>30%</td>\n",
       "      <td>3000</td>\n",
       "    </tr>\n",
       "    <tr>\n",
       "      <th>...</th>\n",
       "      <td>...</td>\n",
       "      <td>...</td>\n",
       "      <td>...</td>\n",
       "      <td>...</td>\n",
       "      <td>...</td>\n",
       "      <td>...</td>\n",
       "    </tr>\n",
       "    <tr>\n",
       "      <th>88</th>\n",
       "      <td>2011-2015</td>\n",
       "      <td>yadagiri</td>\n",
       "      <td>jowar</td>\n",
       "      <td>0.5</td>\n",
       "      <td>52%</td>\n",
       "      <td>3000</td>\n",
       "    </tr>\n",
       "    <tr>\n",
       "      <th>89</th>\n",
       "      <td>2016-2020</td>\n",
       "      <td>yadagiri</td>\n",
       "      <td>red gram</td>\n",
       "      <td>0</td>\n",
       "      <td>67%</td>\n",
       "      <td>1200</td>\n",
       "    </tr>\n",
       "    <tr>\n",
       "      <th>90</th>\n",
       "      <td>2005-2010</td>\n",
       "      <td>vijayanagara</td>\n",
       "      <td>paddy</td>\n",
       "      <td>0</td>\n",
       "      <td>42%</td>\n",
       "      <td>2000</td>\n",
       "    </tr>\n",
       "    <tr>\n",
       "      <th>91</th>\n",
       "      <td>2011-2015</td>\n",
       "      <td>vijayanagara</td>\n",
       "      <td>groundnut</td>\n",
       "      <td>4</td>\n",
       "      <td>59%</td>\n",
       "      <td>3400</td>\n",
       "    </tr>\n",
       "    <tr>\n",
       "      <th>92</th>\n",
       "      <td>2016-2020</td>\n",
       "      <td>vijayanagara</td>\n",
       "      <td>cotton</td>\n",
       "      <td>29</td>\n",
       "      <td>32%</td>\n",
       "      <td>21000</td>\n",
       "    </tr>\n",
       "  </tbody>\n",
       "</table>\n",
       "<p>93 rows × 6 columns</p>\n",
       "</div>"
      ],
      "text/plain": [
       "        Years      District      Crops Yield Rainfall  Price\n",
       "0   2005-2010    bagalakote     cotton  12.2      34%  10000\n",
       "1   2011-2015    bagalakote  sugarcane  11.3      58%   2000\n",
       "2   2016-2020    bagalakote      maize  360%       23   4000\n",
       "3   2005-2010       ballari     cotton     4      26%  10000\n",
       "4   2011-2015       ballari      paddy  12.4      30%   3000\n",
       "..        ...           ...        ...   ...      ...    ...\n",
       "88  2011-2015      yadagiri      jowar   0.5      52%   3000\n",
       "89  2016-2020      yadagiri   red gram     0      67%   1200\n",
       "90  2005-2010  vijayanagara      paddy     0      42%   2000\n",
       "91  2011-2015  vijayanagara  groundnut     4      59%   3400\n",
       "92  2016-2020  vijayanagara     cotton    29      32%  21000\n",
       "\n",
       "[93 rows x 6 columns]"
      ]
     },
     "execution_count": 4,
     "metadata": {},
     "output_type": "execute_result"
    }
   ],
   "source": [
    "df"
   ]
  },
  {
   "cell_type": "code",
   "execution_count": 7,
   "id": "b4269c09-00a0-4ad7-9383-b784365244bf",
   "metadata": {},
   "outputs": [
    {
     "data": {
      "text/plain": [
       "(array([64., 12.,  6.,  0.,  5.,  2.,  0.,  1.,  1.,  2.]),\n",
       " array([ 1200.,  8080., 14960., 21840., 28720., 35600., 42480., 49360.,\n",
       "        56240., 63120., 70000.]),\n",
       " <BarContainer object of 10 artists>)"
      ]
     },
     "execution_count": 7,
     "metadata": {},
     "output_type": "execute_result"
    },
    {
     "data": {
      "image/png": "[encoded data removed]",
      "text/plain": [
       "<Figure size 640x480 with 1 Axes>"
      ]
     },
     "metadata": {},
     "output_type": "display_data"
    }
   ],
   "source": [
    "plt.hist(df['Price'])"
   ]
  },
  {
   "cell_type": "code",
   "execution_count": null,
   "id": "ddabe612-3d5b-4d2b-a157-db988841a22b",
   "metadata": {},
   "outputs": [],
   "source": []
  }
 ],
 "metadata": {
  "kernelspec": {
   "display_name": "Python 3 (ipykernel)",
   "language": "python",
   "name": "python3"
  },
  "language_info": {
   "codemirror_mode": {
    "name": "ipython",
    "version": 3
   },
   "file_extension": ".py",
   "mimetype": "text/x-python",
   "name": "python",
   "nbconvert_exporter": "python",
   "pygments_lexer": "ipython3",
   "version": "3.13.5"
  }
 },
 "nbformat": 4,
 "nbformat_minor": 5
}
