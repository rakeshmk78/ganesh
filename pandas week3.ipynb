{
 "cells": [
  {
   "cell_type": "markdown",
   "id": "a71eec41-bc61-4da2-945c-12cbf4b66cb6",
   "metadata": {},
   "source": [
    "## Pandas"
   ]
  },
  {
   "cell_type": "markdown",
   "id": "ae235145-d43d-4954-8192-1bcc5c404a32",
   "metadata": {},
   "source": [
    "#### Pandas is a Python library used for working with data sets.\n",
    "#### It has functions for analyzing, cleaning, exploring, and manipulating data."
   ]
  },
  {
   "cell_type": "markdown",
   "id": "f22c4acb-c107-40ab-8957-4065db9324b3",
   "metadata": {},
   "source": [
    "### 1] creating DataFrame "
   ]
  },
  {
   "cell_type": "markdown",
   "id": "224c7df6-f92f-4a24-ba75-113c248e7189",
   "metadata": {},
   "source": [
    "#### A pandas DataFrame is a two-dimensional, mutable, tabular data structure with labeled axes (rows and columns). It is the primary data structure used in the pandas library for data manipulation and analysis in Python."
   ]
  },
  {
   "cell_type": "code",
   "execution_count": 1,
   "id": "249212c4-3c55-4138-a3bd-206b65f0401f",
   "metadata": {},
   "outputs": [],
   "source": [
    "import pandas as pd\n"
   ]
  },
  {
   "cell_type": "code",
   "execution_count": 18,
   "id": "a2a6e2fd-dc13-4150-ba26-abf70cf73e9f",
   "metadata": {},
   "outputs": [
    {
     "name": "stdout",
     "output_type": "stream",
     "text": [
      "  Department  Age  Salary\n",
      "0         HR   25   50000\n",
      "1         IT   30   60000\n",
      "2         HR   45   52000\n",
      "3         IT   35   58000\n",
      "4    Finance   40   70000\n"
     ]
    }
   ],
   "source": [
    "import pandas as pd\n",
    "\n",
    "data = {\n",
    "    'Department': ['HR', 'IT', 'HR', 'IT', 'Finance'],\n",
    "    'Age': [25, 30, 45, 35, 40],\n",
    "    'Salary': [50000, 60000, 52000, 58000, 70000]\n",
    "}\n",
    "df = pd.DataFrame(data)\n",
    "print(df)"
   ]
  },
  {
   "cell_type": "markdown",
   "id": "eccfbf32-26f4-4f63-bec5-db220757ea19",
   "metadata": {},
   "source": [
    "### 2] CSV read and save"
   ]
  },
  {
   "cell_type": "markdown",
   "id": "b59bb71c-6c19-4552-af7a-c1bd83f47199",
   "metadata": {},
   "source": [
    "#### read syntax"
   ]
  },
  {
   "cell_type": "code",
   "execution_count": null,
   "id": "484a99da-4b93-4664-9c1e-bd19d488d477",
   "metadata": {},
   "outputs": [],
   "source": [
    "df = pd.read_csv('data.csv')"
   ]
  },
  {
   "cell_type": "markdown",
   "id": "6fa55224-8a0d-4f75-8527-f6b9bbda9616",
   "metadata": {},
   "source": [
    "#### example"
   ]
  },
  {
   "cell_type": "code",
   "execution_count": 31,
   "id": "c5ab4e9d-9128-4fd9-9502-14116ad300fe",
   "metadata": {},
   "outputs": [],
   "source": [
    "df = pd.read_csv('C:/Users/Hi/Downloads/titanic.csv')"
   ]
  },
  {
   "cell_type": "markdown",
   "id": "2dbc89ea-7665-42bb-8a13-7c298d6b21f3",
   "metadata": {},
   "source": [
    "### 3] Analyzing DataFrames"
   ]
  },
  {
   "cell_type": "markdown",
   "id": "6ce1155a-7c39-4167-ab32-9d9a46b1b9ba",
   "metadata": {},
   "source": [
    "#### syntax"
   ]
  },
  {
   "cell_type": "code",
   "execution_count": null,
   "id": "341b8d48-2a73-4bc7-98ec-44d65d0a1735",
   "metadata": {},
   "outputs": [],
   "source": [
    "df.head(indexno)"
   ]
  },
  {
   "cell_type": "markdown",
   "id": "91d343e0-0cc1-49b6-a8a6-0b927adb7b96",
   "metadata": {},
   "source": [
    "#### example"
   ]
  },
  {
   "cell_type": "code",
   "execution_count": 4,
   "id": "0aa495a5-5e4e-4de2-b69f-ae0d7c83ddb9",
   "metadata": {},
   "outputs": [
    {
     "data": {
      "text/html": [
       "<div>\n",
       "<style scoped>\n",
       "    .dataframe tbody tr th:only-of-type {\n",
       "        vertical-align: middle;\n",
       "    }\n",
       "\n",
       "    .dataframe tbody tr th {\n",
       "        vertical-align: top;\n",
       "    }\n",
       "\n",
       "    .dataframe thead th {\n",
       "        text-align: right;\n",
       "    }\n",
       "</style>\n",
       "<table border=\"1\" class=\"dataframe\">\n",
       "  <thead>\n",
       "    <tr style=\"text-align: right;\">\n",
       "      <th></th>\n",
       "      <th>survived</th>\n",
       "      <th>pclass</th>\n",
       "      <th>sex</th>\n",
       "      <th>age</th>\n",
       "      <th>sibsp</th>\n",
       "      <th>parch</th>\n",
       "      <th>fare</th>\n",
       "      <th>embarked</th>\n",
       "      <th>class</th>\n",
       "      <th>who</th>\n",
       "      <th>adult_male</th>\n",
       "      <th>deck</th>\n",
       "      <th>embark_town</th>\n",
       "      <th>alive</th>\n",
       "      <th>alone</th>\n",
       "    </tr>\n",
       "  </thead>\n",
       "  <tbody>\n",
       "    <tr>\n",
       "      <th>0</th>\n",
       "      <td>0</td>\n",
       "      <td>3</td>\n",
       "      <td>male</td>\n",
       "      <td>22.0</td>\n",
       "      <td>1</td>\n",
       "      <td>0</td>\n",
       "      <td>7.2500</td>\n",
       "      <td>S</td>\n",
       "      <td>Third</td>\n",
       "      <td>man</td>\n",
       "      <td>True</td>\n",
       "      <td>NaN</td>\n",
       "      <td>Southampton</td>\n",
       "      <td>no</td>\n",
       "      <td>False</td>\n",
       "    </tr>\n",
       "    <tr>\n",
       "      <th>1</th>\n",
       "      <td>1</td>\n",
       "      <td>1</td>\n",
       "      <td>female</td>\n",
       "      <td>38.0</td>\n",
       "      <td>1</td>\n",
       "      <td>0</td>\n",
       "      <td>71.2833</td>\n",
       "      <td>C</td>\n",
       "      <td>First</td>\n",
       "      <td>woman</td>\n",
       "      <td>False</td>\n",
       "      <td>C</td>\n",
       "      <td>Cherbourg</td>\n",
       "      <td>yes</td>\n",
       "      <td>False</td>\n",
       "    </tr>\n",
       "    <tr>\n",
       "      <th>2</th>\n",
       "      <td>1</td>\n",
       "      <td>3</td>\n",
       "      <td>female</td>\n",
       "      <td>26.0</td>\n",
       "      <td>0</td>\n",
       "      <td>0</td>\n",
       "      <td>7.9250</td>\n",
       "      <td>S</td>\n",
       "      <td>Third</td>\n",
       "      <td>woman</td>\n",
       "      <td>False</td>\n",
       "      <td>NaN</td>\n",
       "      <td>Southampton</td>\n",
       "      <td>yes</td>\n",
       "      <td>True</td>\n",
       "    </tr>\n",
       "    <tr>\n",
       "      <th>3</th>\n",
       "      <td>1</td>\n",
       "      <td>1</td>\n",
       "      <td>female</td>\n",
       "      <td>35.0</td>\n",
       "      <td>1</td>\n",
       "      <td>0</td>\n",
       "      <td>53.1000</td>\n",
       "      <td>S</td>\n",
       "      <td>First</td>\n",
       "      <td>woman</td>\n",
       "      <td>False</td>\n",
       "      <td>C</td>\n",
       "      <td>Southampton</td>\n",
       "      <td>yes</td>\n",
       "      <td>False</td>\n",
       "    </tr>\n",
       "  </tbody>\n",
       "</table>\n",
       "</div>"
      ],
      "text/plain": [
       "   survived  pclass     sex   age  sibsp  parch     fare embarked  class  \\\n",
       "0         0       3    male  22.0      1      0   7.2500        S  Third   \n",
       "1         1       1  female  38.0      1      0  71.2833        C  First   \n",
       "2         1       3  female  26.0      0      0   7.9250        S  Third   \n",
       "3         1       1  female  35.0      1      0  53.1000        S  First   \n",
       "\n",
       "     who  adult_male deck  embark_town alive  alone  \n",
       "0    man        True  NaN  Southampton    no  False  \n",
       "1  woman       False    C    Cherbourg   yes  False  \n",
       "2  woman       False  NaN  Southampton   yes   True  \n",
       "3  woman       False    C  Southampton   yes  False  "
      ]
     },
     "execution_count": 4,
     "metadata": {},
     "output_type": "execute_result"
    }
   ],
   "source": [
    "df.head(4)"
   ]
  },
  {
   "cell_type": "code",
   "execution_count": 7,
   "id": "8543e3eb-c972-4867-8c17-1b1e949b2827",
   "metadata": {},
   "outputs": [
    {
     "data": {
      "text/html": [
       "<div>\n",
       "<style scoped>\n",
       "    .dataframe tbody tr th:only-of-type {\n",
       "        vertical-align: middle;\n",
       "    }\n",
       "\n",
       "    .dataframe tbody tr th {\n",
       "        vertical-align: top;\n",
       "    }\n",
       "\n",
       "    .dataframe thead th {\n",
       "        text-align: right;\n",
       "    }\n",
       "</style>\n",
       "<table border=\"1\" class=\"dataframe\">\n",
       "  <thead>\n",
       "    <tr style=\"text-align: right;\">\n",
       "      <th></th>\n",
       "      <th>survived</th>\n",
       "      <th>pclass</th>\n",
       "      <th>sex</th>\n",
       "      <th>age</th>\n",
       "      <th>sibsp</th>\n",
       "      <th>parch</th>\n",
       "      <th>fare</th>\n",
       "      <th>embarked</th>\n",
       "      <th>class</th>\n",
       "      <th>who</th>\n",
       "      <th>adult_male</th>\n",
       "      <th>deck</th>\n",
       "      <th>embark_town</th>\n",
       "      <th>alive</th>\n",
       "      <th>alone</th>\n",
       "    </tr>\n",
       "  </thead>\n",
       "  <tbody>\n",
       "    <tr>\n",
       "      <th>887</th>\n",
       "      <td>1</td>\n",
       "      <td>1</td>\n",
       "      <td>female</td>\n",
       "      <td>19.0</td>\n",
       "      <td>0</td>\n",
       "      <td>0</td>\n",
       "      <td>30.00</td>\n",
       "      <td>S</td>\n",
       "      <td>First</td>\n",
       "      <td>woman</td>\n",
       "      <td>False</td>\n",
       "      <td>B</td>\n",
       "      <td>Southampton</td>\n",
       "      <td>yes</td>\n",
       "      <td>True</td>\n",
       "    </tr>\n",
       "    <tr>\n",
       "      <th>888</th>\n",
       "      <td>0</td>\n",
       "      <td>3</td>\n",
       "      <td>female</td>\n",
       "      <td>NaN</td>\n",
       "      <td>1</td>\n",
       "      <td>2</td>\n",
       "      <td>23.45</td>\n",
       "      <td>S</td>\n",
       "      <td>Third</td>\n",
       "      <td>woman</td>\n",
       "      <td>False</td>\n",
       "      <td>NaN</td>\n",
       "      <td>Southampton</td>\n",
       "      <td>no</td>\n",
       "      <td>False</td>\n",
       "    </tr>\n",
       "    <tr>\n",
       "      <th>889</th>\n",
       "      <td>1</td>\n",
       "      <td>1</td>\n",
       "      <td>male</td>\n",
       "      <td>26.0</td>\n",
       "      <td>0</td>\n",
       "      <td>0</td>\n",
       "      <td>30.00</td>\n",
       "      <td>C</td>\n",
       "      <td>First</td>\n",
       "      <td>man</td>\n",
       "      <td>True</td>\n",
       "      <td>C</td>\n",
       "      <td>Cherbourg</td>\n",
       "      <td>yes</td>\n",
       "      <td>True</td>\n",
       "    </tr>\n",
       "    <tr>\n",
       "      <th>890</th>\n",
       "      <td>0</td>\n",
       "      <td>3</td>\n",
       "      <td>male</td>\n",
       "      <td>32.0</td>\n",
       "      <td>0</td>\n",
       "      <td>0</td>\n",
       "      <td>7.75</td>\n",
       "      <td>Q</td>\n",
       "      <td>Third</td>\n",
       "      <td>man</td>\n",
       "      <td>True</td>\n",
       "      <td>NaN</td>\n",
       "      <td>Queenstown</td>\n",
       "      <td>no</td>\n",
       "      <td>True</td>\n",
       "    </tr>\n",
       "  </tbody>\n",
       "</table>\n",
       "</div>"
      ],
      "text/plain": [
       "     survived  pclass     sex   age  sibsp  parch   fare embarked  class  \\\n",
       "887         1       1  female  19.0      0      0  30.00        S  First   \n",
       "888         0       3  female   NaN      1      2  23.45        S  Third   \n",
       "889         1       1    male  26.0      0      0  30.00        C  First   \n",
       "890         0       3    male  32.0      0      0   7.75        Q  Third   \n",
       "\n",
       "       who  adult_male deck  embark_town alive  alone  \n",
       "887  woman       False    B  Southampton   yes   True  \n",
       "888  woman       False  NaN  Southampton    no  False  \n",
       "889    man        True    C    Cherbourg   yes   True  \n",
       "890    man        True  NaN   Queenstown    no   True  "
      ]
     },
     "execution_count": 7,
     "metadata": {},
     "output_type": "execute_result"
    }
   ],
   "source": [
    "df.tail(4)"
   ]
  },
  {
   "cell_type": "markdown",
   "id": "c4f54b5f-fa78-4845-878d-7a0bb38c8d76",
   "metadata": {},
   "source": [
    "### 4] Aggregate() functions"
   ]
  },
  {
   "cell_type": "markdown",
   "id": "8e669a7b-d757-4325-bb06-f1898aaf0b0c",
   "metadata": {},
   "source": [
    "#### * sum()\n",
    "#### * min()\n",
    "#### * max()\n",
    "#### * mean()\n",
    "#### * describe()\n",
    "#### * count()\n",
    "#### * std()\n"
   ]
  },
  {
   "cell_type": "markdown",
   "id": "3b1002b8-93de-4583-991a-1c3b4da0480a",
   "metadata": {},
   "source": [
    "####  * sum()"
   ]
  },
  {
   "cell_type": "markdown",
   "id": "f0c100d2-86a6-4f7b-84cf-557c270e11c9",
   "metadata": {},
   "source": [
    "##### example "
   ]
  },
  {
   "cell_type": "code",
   "execution_count": 11,
   "id": "5895e367-982b-4c22-adb6-25bb04693d5d",
   "metadata": {},
   "outputs": [
    {
     "data": {
      "text/plain": [
       "np.int64(175)"
      ]
     },
     "execution_count": 11,
     "metadata": {},
     "output_type": "execute_result"
    }
   ],
   "source": [
    "df['Age'].sum()"
   ]
  },
  {
   "cell_type": "markdown",
   "id": "73a5d4a2-9cfd-44e8-a2f7-5a88d2f6defe",
   "metadata": {},
   "source": [
    "#### * min()"
   ]
  },
  {
   "cell_type": "markdown",
   "id": "19421889-2bda-4a42-abd7-d4f0e5f2907d",
   "metadata": {},
   "source": [
    "##### example"
   ]
  },
  {
   "cell_type": "code",
   "execution_count": 14,
   "id": "fd1c04f8-8d47-40b1-b8d2-97187483a307",
   "metadata": {},
   "outputs": [
    {
     "data": {
      "text/plain": [
       "np.int64(25)"
      ]
     },
     "execution_count": 14,
     "metadata": {},
     "output_type": "execute_result"
    }
   ],
   "source": [
    "df['Age'].min()"
   ]
  },
  {
   "cell_type": "markdown",
   "id": "c8f6866a-b52b-4be3-a301-35ba58722c45",
   "metadata": {},
   "source": [
    "#### * max"
   ]
  },
  {
   "cell_type": "markdown",
   "id": "a25d622d-474d-4366-a12f-ba853e930371",
   "metadata": {},
   "source": [
    "##### example"
   ]
  },
  {
   "cell_type": "code",
   "execution_count": 16,
   "id": "4009bb8f-486d-4b80-9849-78184b50b10c",
   "metadata": {},
   "outputs": [
    {
     "data": {
      "text/plain": [
       "np.int64(45)"
      ]
     },
     "execution_count": 16,
     "metadata": {},
     "output_type": "execute_result"
    }
   ],
   "source": [
    "df['Age'].max()"
   ]
  },
  {
   "cell_type": "markdown",
   "id": "bc9f80a2-a13b-4377-9c94-77e4970c857b",
   "metadata": {},
   "source": [
    "#### * mean()"
   ]
  },
  {
   "cell_type": "markdown",
   "id": "f038678a-9182-48fc-9c8e-ae1ecc611293",
   "metadata": {},
   "source": [
    "##### exaple "
   ]
  },
  {
   "cell_type": "code",
   "execution_count": 19,
   "id": "67110b39-b6ed-46c7-8b29-097d28e5f350",
   "metadata": {},
   "outputs": [
    {
     "data": {
      "text/plain": [
       "np.float64(35.0)"
      ]
     },
     "execution_count": 19,
     "metadata": {},
     "output_type": "execute_result"
    }
   ],
   "source": [
    "df['Age'].mean()"
   ]
  },
  {
   "cell_type": "markdown",
   "id": "c0724d6b-52a3-4679-bf84-e17c1dedbc50",
   "metadata": {},
   "source": [
    "#### * standard diviation"
   ]
  },
  {
   "cell_type": "markdown",
   "id": "04e5ebe9-0c54-4845-ba37-41a4658c4f9a",
   "metadata": {},
   "source": [
    "##### example "
   ]
  },
  {
   "cell_type": "code",
   "execution_count": 21,
   "id": "d1869d80-b0a1-4d54-81af-353001ea7132",
   "metadata": {},
   "outputs": [
    {
     "data": {
      "text/plain": [
       "np.float64(7.905694150420948)"
      ]
     },
     "execution_count": 21,
     "metadata": {},
     "output_type": "execute_result"
    }
   ],
   "source": [
    "df['Age'].std()"
   ]
  },
  {
   "cell_type": "markdown",
   "id": "fc8c5e3a-9f7b-459a-8352-d6071f3a97e2",
   "metadata": {},
   "source": [
    "#### *  describe()"
   ]
  },
  {
   "cell_type": "markdown",
   "id": "bac19aa3-0bd1-4fc7-8324-e18cd816b033",
   "metadata": {},
   "source": [
    "##### example "
   ]
  },
  {
   "cell_type": "code",
   "execution_count": 22,
   "id": "2a0ce6f0-680d-4220-99dc-ccb5cfb55f89",
   "metadata": {},
   "outputs": [
    {
     "data": {
      "text/plain": [
       "count     5.000000\n",
       "mean     35.000000\n",
       "std       7.905694\n",
       "min      25.000000\n",
       "25%      30.000000\n",
       "50%      35.000000\n",
       "75%      40.000000\n",
       "max      45.000000\n",
       "Name: Age, dtype: float64"
      ]
     },
     "execution_count": 22,
     "metadata": {},
     "output_type": "execute_result"
    }
   ],
   "source": [
    "df['Age']. describe()"
   ]
  },
  {
   "cell_type": "markdown",
   "id": "8f0b6f0f-6c1f-4977-89f6-e144bcb7401d",
   "metadata": {},
   "source": [
    "#### *  count()"
   ]
  },
  {
   "cell_type": "markdown",
   "id": "08f50ae3-fbf5-4d11-b8e2-ed164504cd5d",
   "metadata": {},
   "source": [
    "##### example"
   ]
  },
  {
   "cell_type": "code",
   "execution_count": 25,
   "id": "61a22c17-2b07-4b2c-845d-59b555b79e22",
   "metadata": {},
   "outputs": [
    {
     "data": {
      "text/plain": [
       "np.int64(5)"
      ]
     },
     "execution_count": 25,
     "metadata": {},
     "output_type": "execute_result"
    }
   ],
   "source": [
    "df['Age']. count()"
   ]
  },
  {
   "cell_type": "markdown",
   "id": "1616c7c5-8b34-4725-b638-b61467e8ddc9",
   "metadata": {},
   "source": [
    "### 5] DataFrame colomn add & dlt"
   ]
  },
  {
   "cell_type": "code",
   "execution_count": null,
   "id": "3c50bb3e-a469-4543-8f58-c4c1f8a777ff",
   "metadata": {},
   "outputs": [],
   "source": [
    "# syntax\n",
    "df['newcolomn'] = df['colomname'] + 'values'"
   ]
  },
  {
   "cell_type": "markdown",
   "id": "9552f782-6815-4fab-964a-0f585eb885ec",
   "metadata": {},
   "source": [
    "##### syntax & exapmle"
   ]
  },
  {
   "cell_type": "code",
   "execution_count": 32,
   "id": "3160efa8-2f9d-44cb-8de2-3a8baf401c66",
   "metadata": {},
   "outputs": [
    {
     "data": {
      "text/html": [
       "<div>\n",
       "<style scoped>\n",
       "    .dataframe tbody tr th:only-of-type {\n",
       "        vertical-align: middle;\n",
       "    }\n",
       "\n",
       "    .dataframe tbody tr th {\n",
       "        vertical-align: top;\n",
       "    }\n",
       "\n",
       "    .dataframe thead th {\n",
       "        text-align: right;\n",
       "    }\n",
       "</style>\n",
       "<table border=\"1\" class=\"dataframe\">\n",
       "  <thead>\n",
       "    <tr style=\"text-align: right;\">\n",
       "      <th></th>\n",
       "      <th>Department</th>\n",
       "      <th>Age</th>\n",
       "      <th>Salary</th>\n",
       "      <th>increase salary</th>\n",
       "    </tr>\n",
       "  </thead>\n",
       "  <tbody>\n",
       "    <tr>\n",
       "      <th>0</th>\n",
       "      <td>HR</td>\n",
       "      <td>25</td>\n",
       "      <td>50000</td>\n",
       "      <td>51000</td>\n",
       "    </tr>\n",
       "    <tr>\n",
       "      <th>1</th>\n",
       "      <td>IT</td>\n",
       "      <td>30</td>\n",
       "      <td>60000</td>\n",
       "      <td>61000</td>\n",
       "    </tr>\n",
       "    <tr>\n",
       "      <th>2</th>\n",
       "      <td>HR</td>\n",
       "      <td>45</td>\n",
       "      <td>52000</td>\n",
       "      <td>53000</td>\n",
       "    </tr>\n",
       "    <tr>\n",
       "      <th>3</th>\n",
       "      <td>IT</td>\n",
       "      <td>35</td>\n",
       "      <td>58000</td>\n",
       "      <td>59000</td>\n",
       "    </tr>\n",
       "    <tr>\n",
       "      <th>4</th>\n",
       "      <td>Finance</td>\n",
       "      <td>40</td>\n",
       "      <td>70000</td>\n",
       "      <td>71000</td>\n",
       "    </tr>\n",
       "  </tbody>\n",
       "</table>\n",
       "</div>"
      ],
      "text/plain": [
       "  Department  Age  Salary  increase salary\n",
       "0         HR   25   50000            51000\n",
       "1         IT   30   60000            61000\n",
       "2         HR   45   52000            53000\n",
       "3         IT   35   58000            59000\n",
       "4    Finance   40   70000            71000"
      ]
     },
     "execution_count": 32,
     "metadata": {},
     "output_type": "execute_result"
    }
   ],
   "source": [
    "# add colomn\n",
    "df['increase salary'] = df['Salary'] + 1000\n",
    "df"
   ]
  },
  {
   "cell_type": "code",
   "execution_count": 34,
   "id": "c6feba04-b20a-438a-9723-0feb90937f33",
   "metadata": {},
   "outputs": [
    {
     "data": {
      "text/html": [
       "<div>\n",
       "<style scoped>\n",
       "    .dataframe tbody tr th:only-of-type {\n",
       "        vertical-align: middle;\n",
       "    }\n",
       "\n",
       "    .dataframe tbody tr th {\n",
       "        vertical-align: top;\n",
       "    }\n",
       "\n",
       "    .dataframe thead th {\n",
       "        text-align: right;\n",
       "    }\n",
       "</style>\n",
       "<table border=\"1\" class=\"dataframe\">\n",
       "  <thead>\n",
       "    <tr style=\"text-align: right;\">\n",
       "      <th></th>\n",
       "      <th>Department</th>\n",
       "      <th>Age</th>\n",
       "      <th>Salary</th>\n",
       "    </tr>\n",
       "  </thead>\n",
       "  <tbody>\n",
       "    <tr>\n",
       "      <th>0</th>\n",
       "      <td>HR</td>\n",
       "      <td>25</td>\n",
       "      <td>50000</td>\n",
       "    </tr>\n",
       "    <tr>\n",
       "      <th>1</th>\n",
       "      <td>IT</td>\n",
       "      <td>30</td>\n",
       "      <td>60000</td>\n",
       "    </tr>\n",
       "    <tr>\n",
       "      <th>2</th>\n",
       "      <td>HR</td>\n",
       "      <td>45</td>\n",
       "      <td>52000</td>\n",
       "    </tr>\n",
       "    <tr>\n",
       "      <th>3</th>\n",
       "      <td>IT</td>\n",
       "      <td>35</td>\n",
       "      <td>58000</td>\n",
       "    </tr>\n",
       "    <tr>\n",
       "      <th>4</th>\n",
       "      <td>Finance</td>\n",
       "      <td>40</td>\n",
       "      <td>70000</td>\n",
       "    </tr>\n",
       "  </tbody>\n",
       "</table>\n",
       "</div>"
      ],
      "text/plain": [
       "  Department  Age  Salary\n",
       "0         HR   25   50000\n",
       "1         IT   30   60000\n",
       "2         HR   45   52000\n",
       "3         IT   35   58000\n",
       "4    Finance   40   70000"
      ]
     },
     "execution_count": 34,
     "metadata": {},
     "output_type": "execute_result"
    }
   ],
   "source": [
    "# dlt colomn\n",
    "\n",
    "#syntax\n",
    "df = df.drop('ColumnName', axis=1)\n",
    "#example\n",
    "\n",
    "df = df.drop('increase salary', axis=1)\n",
    "df\n"
   ]
  },
  {
   "cell_type": "code",
   "execution_count": 35,
   "id": "269e6740-20bc-4264-b3bd-6fd480801091",
   "metadata": {},
   "outputs": [
    {
     "data": {
      "text/html": [
       "<div>\n",
       "<style scoped>\n",
       "    .dataframe tbody tr th:only-of-type {\n",
       "        vertical-align: middle;\n",
       "    }\n",
       "\n",
       "    .dataframe tbody tr th {\n",
       "        vertical-align: top;\n",
       "    }\n",
       "\n",
       "    .dataframe thead th {\n",
       "        text-align: right;\n",
       "    }\n",
       "</style>\n",
       "<table border=\"1\" class=\"dataframe\">\n",
       "  <thead>\n",
       "    <tr style=\"text-align: right;\">\n",
       "      <th></th>\n",
       "      <th>Department</th>\n",
       "    </tr>\n",
       "  </thead>\n",
       "  <tbody>\n",
       "    <tr>\n",
       "      <th>0</th>\n",
       "      <td>HR</td>\n",
       "    </tr>\n",
       "    <tr>\n",
       "      <th>1</th>\n",
       "      <td>IT</td>\n",
       "    </tr>\n",
       "    <tr>\n",
       "      <th>2</th>\n",
       "      <td>HR</td>\n",
       "    </tr>\n",
       "    <tr>\n",
       "      <th>3</th>\n",
       "      <td>IT</td>\n",
       "    </tr>\n",
       "    <tr>\n",
       "      <th>4</th>\n",
       "      <td>Finance</td>\n",
       "    </tr>\n",
       "  </tbody>\n",
       "</table>\n",
       "</div>"
      ],
      "text/plain": [
       "  Department\n",
       "0         HR\n",
       "1         IT\n",
       "2         HR\n",
       "3         IT\n",
       "4    Finance"
      ]
     },
     "execution_count": 35,
     "metadata": {},
     "output_type": "execute_result"
    }
   ],
   "source": [
    "# Dlt multiple columns\n",
    "df = df.drop(['Salary', 'Age'], axis=1)\n",
    "df"
   ]
  },
  {
   "cell_type": "markdown",
   "id": "c7513a4e-0cbe-43a2-b506-51043b9a2578",
   "metadata": {},
   "source": [
    "### 6] map function"
   ]
  },
  {
   "cell_type": "markdown",
   "id": "4ed8947b-5a1a-4533-bf3a-d775d8062c4e",
   "metadata": {},
   "source": [
    "#### The map () function is used to apply a given function to every item of an iterable, such as a list or tuple, and returns a map object"
   ]
  },
  {
   "cell_type": "markdown",
   "id": "ba3ff62d-c8b8-4f78-8dfc-26870f537388",
   "metadata": {},
   "source": [
    "##### syntax"
   ]
  },
  {
   "cell_type": "code",
   "execution_count": null,
   "id": "0bdab08d-5b3c-48e3-a98b-86d108148dd4",
   "metadata": {},
   "outputs": [],
   "source": [
    "df['colomn_name'] = df['colomn_name'].map(lambda x: x+10)\n"
   ]
  },
  {
   "cell_type": "markdown",
   "id": "c28baceb-9c4a-4def-9b3e-f6a0246a3480",
   "metadata": {},
   "source": [
    "##### example"
   ]
  },
  {
   "cell_type": "code",
   "execution_count": 3,
   "id": "c80c54ab-2aca-43c8-829a-8752ab24202e",
   "metadata": {},
   "outputs": [
    {
     "name": "stdout",
     "output_type": "stream",
     "text": [
      "  Department  Age  Salary  dlen\n",
      "0         HR   25   50000     2\n",
      "1         IT   30   60000     2\n",
      "2         HR   45   52000     2\n",
      "3         IT   35   58000     2\n",
      "4    Finance   40   70000     7\n"
     ]
    }
   ],
   "source": [
    "df['dlen'] = df['Department'].map(len)\n",
    "print(df)\n"
   ]
  },
  {
   "cell_type": "code",
   "execution_count": 4,
   "id": "450e1fc6-c28f-4c38-86a5-33df4616fe8b",
   "metadata": {},
   "outputs": [
    {
     "data": {
      "text/html": [
       "<div>\n",
       "<style scoped>\n",
       "    .dataframe tbody tr th:only-of-type {\n",
       "        vertical-align: middle;\n",
       "    }\n",
       "\n",
       "    .dataframe tbody tr th {\n",
       "        vertical-align: top;\n",
       "    }\n",
       "\n",
       "    .dataframe thead th {\n",
       "        text-align: right;\n",
       "    }\n",
       "</style>\n",
       "<table border=\"1\" class=\"dataframe\">\n",
       "  <thead>\n",
       "    <tr style=\"text-align: right;\">\n",
       "      <th></th>\n",
       "      <th>Department</th>\n",
       "      <th>Age</th>\n",
       "      <th>Salary</th>\n",
       "      <th>dlen</th>\n",
       "      <th>Salary_upper</th>\n",
       "    </tr>\n",
       "  </thead>\n",
       "  <tbody>\n",
       "    <tr>\n",
       "      <th>0</th>\n",
       "      <td>HR</td>\n",
       "      <td>25</td>\n",
       "      <td>50000</td>\n",
       "      <td>2</td>\n",
       "      <td>51000</td>\n",
       "    </tr>\n",
       "    <tr>\n",
       "      <th>1</th>\n",
       "      <td>IT</td>\n",
       "      <td>30</td>\n",
       "      <td>60000</td>\n",
       "      <td>2</td>\n",
       "      <td>61000</td>\n",
       "    </tr>\n",
       "    <tr>\n",
       "      <th>2</th>\n",
       "      <td>HR</td>\n",
       "      <td>45</td>\n",
       "      <td>52000</td>\n",
       "      <td>2</td>\n",
       "      <td>53000</td>\n",
       "    </tr>\n",
       "    <tr>\n",
       "      <th>3</th>\n",
       "      <td>IT</td>\n",
       "      <td>35</td>\n",
       "      <td>58000</td>\n",
       "      <td>2</td>\n",
       "      <td>59000</td>\n",
       "    </tr>\n",
       "    <tr>\n",
       "      <th>4</th>\n",
       "      <td>Finance</td>\n",
       "      <td>40</td>\n",
       "      <td>70000</td>\n",
       "      <td>7</td>\n",
       "      <td>71000</td>\n",
       "    </tr>\n",
       "  </tbody>\n",
       "</table>\n",
       "</div>"
      ],
      "text/plain": [
       "  Department  Age  Salary  dlen  Salary_upper\n",
       "0         HR   25   50000     2         51000\n",
       "1         IT   30   60000     2         61000\n",
       "2         HR   45   52000     2         53000\n",
       "3         IT   35   58000     2         59000\n",
       "4    Finance   40   70000     7         71000"
      ]
     },
     "execution_count": 4,
     "metadata": {},
     "output_type": "execute_result"
    }
   ],
   "source": [
    "df['Salary_upper'] = df['Salary'].map(lambda x: x+1000)\n",
    "df"
   ]
  },
  {
   "cell_type": "markdown",
   "id": "b50f1a0d-2a8f-4e2a-8f7e-9d28b38ff1e1",
   "metadata": {},
   "source": [
    "### 7] filter function"
   ]
  },
  {
   "cell_type": "markdown",
   "id": "c76cf3c5-f0da-4ef5-bf15-993b4bc36681",
   "metadata": {},
   "source": [
    "#### In Python's pandas library, the filter() function is used to subset rows or columns of a DataFrame based on labels. "
   ]
  },
  {
   "cell_type": "markdown",
   "id": "7437e1a1-ba9d-4def-86ad-afb6ecd90b86",
   "metadata": {},
   "source": [
    "##### syntax"
   ]
  },
  {
   "cell_type": "code",
   "execution_count": null,
   "id": "9bd32e28-cecf-4674-94a3-0849b59059ed",
   "metadata": {},
   "outputs": [],
   "source": [
    "filtered_df = df[df['colomn_name'] > 30]"
   ]
  },
  {
   "cell_type": "markdown",
   "id": "d21ad811-3c1d-484d-9a43-02e719295737",
   "metadata": {},
   "source": [
    "##### example"
   ]
  },
  {
   "cell_type": "code",
   "execution_count": 8,
   "id": "b414670e-ab65-4f17-8a51-dee490f84cf0",
   "metadata": {},
   "outputs": [
    {
     "data": {
      "text/html": [
       "<div>\n",
       "<style scoped>\n",
       "    .dataframe tbody tr th:only-of-type {\n",
       "        vertical-align: middle;\n",
       "    }\n",
       "\n",
       "    .dataframe tbody tr th {\n",
       "        vertical-align: top;\n",
       "    }\n",
       "\n",
       "    .dataframe thead th {\n",
       "        text-align: right;\n",
       "    }\n",
       "</style>\n",
       "<table border=\"1\" class=\"dataframe\">\n",
       "  <thead>\n",
       "    <tr style=\"text-align: right;\">\n",
       "      <th></th>\n",
       "      <th>Department</th>\n",
       "      <th>Age</th>\n",
       "      <th>Salary</th>\n",
       "      <th>dlen</th>\n",
       "      <th>Salary_upper</th>\n",
       "    </tr>\n",
       "  </thead>\n",
       "  <tbody>\n",
       "    <tr>\n",
       "      <th>1</th>\n",
       "      <td>IT</td>\n",
       "      <td>30</td>\n",
       "      <td>60000</td>\n",
       "      <td>2</td>\n",
       "      <td>61000</td>\n",
       "    </tr>\n",
       "    <tr>\n",
       "      <th>2</th>\n",
       "      <td>HR</td>\n",
       "      <td>45</td>\n",
       "      <td>52000</td>\n",
       "      <td>2</td>\n",
       "      <td>53000</td>\n",
       "    </tr>\n",
       "    <tr>\n",
       "      <th>3</th>\n",
       "      <td>IT</td>\n",
       "      <td>35</td>\n",
       "      <td>58000</td>\n",
       "      <td>2</td>\n",
       "      <td>59000</td>\n",
       "    </tr>\n",
       "    <tr>\n",
       "      <th>4</th>\n",
       "      <td>Finance</td>\n",
       "      <td>40</td>\n",
       "      <td>70000</td>\n",
       "      <td>7</td>\n",
       "      <td>71000</td>\n",
       "    </tr>\n",
       "  </tbody>\n",
       "</table>\n",
       "</div>"
      ],
      "text/plain": [
       "  Department  Age  Salary  dlen  Salary_upper\n",
       "1         IT   30   60000     2         61000\n",
       "2         HR   45   52000     2         53000\n",
       "3         IT   35   58000     2         59000\n",
       "4    Finance   40   70000     7         71000"
      ]
     },
     "execution_count": 8,
     "metadata": {},
     "output_type": "execute_result"
    }
   ],
   "source": [
    "filtered_df = df[df['Salary'] > 50000]\n",
    "filtered_df "
   ]
  },
  {
   "cell_type": "markdown",
   "id": "22fe1316-eb47-4400-8b61-a6d2d3027760",
   "metadata": {},
   "source": [
    "### 8] reduce function"
   ]
  },
  {
   "cell_type": "markdown",
   "id": "580d9e77-54d9-4c3f-bb12-56c2b4629706",
   "metadata": {},
   "source": [
    "####  You can use it to perform cumulative operations on a pandas DataFrame or Series by reducing it to a single value or result."
   ]
  },
  {
   "cell_type": "markdown",
   "id": "8364f16c-fc0d-4c0f-a7ac-f27d71386314",
   "metadata": {},
   "source": [
    "##### import reduce"
   ]
  },
  {
   "cell_type": "code",
   "execution_count": 9,
   "id": "2e3b6820-da02-4efa-938f-33ca3cde2b53",
   "metadata": {},
   "outputs": [],
   "source": [
    "from functools import reduce"
   ]
  },
  {
   "cell_type": "markdown",
   "id": "78de5185-79aa-4f7c-b274-2dd917d41338",
   "metadata": {},
   "source": [
    "##### syntax"
   ]
  },
  {
   "cell_type": "code",
   "execution_count": null,
   "id": "c56ea92a-de13-4363-9db1-0df8304f7452",
   "metadata": {},
   "outputs": [],
   "source": [
    "m=reduce(lambda x,y: x+y,df['colomn_name'])\n",
    "m"
   ]
  },
  {
   "cell_type": "markdown",
   "id": "bd533680-5e4f-4f54-9229-5c0bad6df737",
   "metadata": {},
   "source": [
    "##### example"
   ]
  },
  {
   "cell_type": "code",
   "execution_count": 10,
   "id": "e383363b-ffd0-4566-9cb4-14f2c5f221b8",
   "metadata": {},
   "outputs": [
    {
     "name": "stdout",
     "output_type": "stream",
     "text": [
      "290000\n"
     ]
    }
   ],
   "source": [
    "m=reduce(lambda x,y: x+y,df['Salary'])\n",
    "print(m)"
   ]
  },
  {
   "cell_type": "markdown",
   "id": "5b9ac93a-bd14-468f-8d4d-2880582405ff",
   "metadata": {},
   "source": [
    "### 9] value counts"
   ]
  },
  {
   "cell_type": "code",
   "execution_count": 16,
   "id": "7ffa2a2e-711c-41b3-89f1-963ba94040d1",
   "metadata": {},
   "outputs": [
    {
     "data": {
      "text/plain": [
       "sex\n",
       "male      577\n",
       "female    314\n",
       "Name: count, dtype: int64"
      ]
     },
     "execution_count": 16,
     "metadata": {},
     "output_type": "execute_result"
    }
   ],
   "source": [
    "counts = df['sex'].value_counts()\n",
    "counts"
   ]
  },
  {
   "cell_type": "markdown",
   "id": "eb0bbdf1-9aa1-45ee-a493-670c1336aa00",
   "metadata": {},
   "source": [
    "### 10] Pandas - Plotting"
   ]
  },
  {
   "cell_type": "markdown",
   "id": "8b879110-1702-43af-8b5d-dc2b909bb2d8",
   "metadata": {},
   "source": [
    "#### You can use the plot() method in Pandas to create various types of plots from a DataFrame. This method is built on top of Matplotlib, making it easy to visualize your data"
   ]
  },
  {
   "cell_type": "markdown",
   "id": "319c8780-bcc6-4430-a228-138060e676c5",
   "metadata": {},
   "source": [
    "#### bar graph in 2 colomn"
   ]
  },
  {
   "cell_type": "markdown",
   "id": "4c97469e-d145-4a4d-9ff9-f01e41fb6265",
   "metadata": {},
   "source": [
    "##### import"
   ]
  },
  {
   "cell_type": "code",
   "execution_count": 11,
   "id": "72e37c45-a511-4c36-9e96-0bba51f9e8d3",
   "metadata": {},
   "outputs": [],
   "source": [
    "import matplotlib.pyplot as plt"
   ]
  },
  {
   "cell_type": "markdown",
   "id": "4601b456-c0ad-4044-9afe-7b03c88e3f4d",
   "metadata": {},
   "source": [
    "##### syntax"
   ]
  },
  {
   "cell_type": "code",
   "execution_count": null,
   "id": "03798b80-5151-4fbd-bd8d-ee6718f93811",
   "metadata": {},
   "outputs": [],
   "source": [
    "df.plot(kind='bar',x='colomn_name',y='colomn_name')\n",
    "plt.show()"
   ]
  },
  {
   "cell_type": "code",
   "execution_count": 22,
   "id": "4caa4966-bf87-405e-b398-40ff96380265",
   "metadata": {},
   "outputs": [
    {
     "data": {
      "image/png": "[encoded data removed]",
      "text/plain": [
       "<Figure size 640x480 with 1 Axes>"
      ]
     },
     "metadata": {},
     "output_type": "display_data"
    }
   ],
   "source": [
    "df.plot(kind='bar',x='Age',y='Salary')\n",
    "plt.title('employ information')\n",
    "plt.xlabel('Age')\n",
    "plt.ylabel('Salary')\n",
    "plt.show()"
   ]
  },
  {
   "cell_type": "markdown",
   "id": "d3eeabf3-4923-4333-95d3-eab658d164da",
   "metadata": {},
   "source": [
    "#### bar graph in 1 colomn"
   ]
  },
  {
   "cell_type": "code",
   "execution_count": 28,
   "id": "96025314-74f7-43de-93d4-d39e7f76e6e1",
   "metadata": {},
   "outputs": [
    {
     "data": {
      "image/png": "[encoded data removed]",
      "text/plain": [
       "<Figure size 640x480 with 1 Axes>"
      ]
     },
     "metadata": {},
     "output_type": "display_data"
    }
   ],
   "source": [
    "df.plot(kind='bar', legend=False)\n",
    "plt.title('employ information')\n",
    "plt.ylabel('Age')\n",
    "plt.show()"
   ]
  },
  {
   "cell_type": "markdown",
   "id": "3f0aa627-7401-4060-a764-8b5f4c684476",
   "metadata": {},
   "source": [
    "#### line graph in 2 colomn"
   ]
  },
  {
   "cell_type": "code",
   "execution_count": 37,
   "id": "8bab6665-b2ba-4f7b-943b-87b52ab3d329",
   "metadata": {},
   "outputs": [
    {
     "name": "stdout",
     "output_type": "stream",
     "text": [
      "     Match  Runs\n",
      "0  Match 1    45\n",
      "1  Match 2    80\n",
      "2  Match 3    23\n",
      "3  Match 4    67\n",
      "4  Match 5   100\n"
     ]
    }
   ],
   "source": [
    "import pandas as pd\n",
    "data = {\n",
    "    'Match': ['Match 1', 'Match 2', 'Match 3', 'Match 4', 'Match 5'],\n",
    "    'Runs': [45, 80, 23, 67, 100]\n",
    "}\n",
    "\n",
    "df = pd.DataFrame(data)\n",
    "print(df)"
   ]
  },
  {
   "cell_type": "code",
   "execution_count": 26,
   "id": "12b5abff-750f-471e-9cf5-42ec641893b3",
   "metadata": {},
   "outputs": [
    {
     "data": {
      "text/plain": [
       "<Axes: title={'center': 'Batsman Run Chart'}, xlabel='Match'>"
      ]
     },
     "execution_count": 26,
     "metadata": {},
     "output_type": "execute_result"
    },
    {
     "data": {
      "image/png": "[encoded data removed]",
      "text/plain": [
       "<Figure size 640x480 with 1 Axes>"
      ]
     },
     "metadata": {},
     "output_type": "display_data"
    }
   ],
   "source": [
    "df.plot(x='Match', y='Runs', kind='line', title='Batsman Run Chart')"
   ]
  },
  {
   "cell_type": "markdown",
   "id": "302caeb7-6572-4ea4-8024-cec92aab72f1",
   "metadata": {},
   "source": [
    "#### line graph in 1 colomn"
   ]
  },
  {
   "cell_type": "code",
   "execution_count": 30,
   "id": "7a16727e-68c7-4ee8-97c5-3c11e2967674",
   "metadata": {},
   "outputs": [
    {
     "data": {
      "image/png": "[encoded data removed]",
      "text/plain": [
       "<Figure size 640x480 with 1 Axes>"
      ]
     },
     "metadata": {},
     "output_type": "display_data"
    }
   ],
   "source": [
    "df.plot(kind='line', legend=False)\n",
    "plt.title('Batsman Run Chart')\n",
    "plt.ylabel('Runs')\n",
    "plt.show()"
   ]
  },
  {
   "cell_type": "markdown",
   "id": "b171c510-6b57-47c3-b87b-baf8eb062cc7",
   "metadata": {},
   "source": [
    "#### Histogram"
   ]
  },
  {
   "cell_type": "code",
   "execution_count": 32,
   "id": "6838882f-1a19-4ed4-a5c4-c466495c812c",
   "metadata": {},
   "outputs": [
    {
     "data": {
      "text/plain": [
       "<Axes: ylabel='Frequency'>"
      ]
     },
     "execution_count": 32,
     "metadata": {},
     "output_type": "execute_result"
    },
    {
     "data": {
      "image/png": "[encoded data removed]",
      "text/plain": [
       "<Figure size 640x480 with 1 Axes>"
      ]
     },
     "metadata": {},
     "output_type": "display_data"
    }
   ],
   "source": [
    "df[\"age\"].plot(kind = 'hist')"
   ]
  },
  {
   "cell_type": "markdown",
   "id": "83c64292-0406-4220-8a5c-a941ea8df2e1",
   "metadata": {},
   "source": [
    "#### pie chart"
   ]
  },
  {
   "cell_type": "code",
   "execution_count": 33,
   "id": "f3b4904d-2597-4d7e-9911-542c797a330e",
   "metadata": {},
   "outputs": [
    {
     "data": {
      "text/plain": [
       "<Axes: ylabel='count'>"
      ]
     },
     "execution_count": 33,
     "metadata": {},
     "output_type": "execute_result"
    },
    {
     "data": {
      "image/png": "[encoded data removed]",
      "text/plain": [
       "<Figure size 640x480 with 1 Axes>"
      ]
     },
     "metadata": {},
     "output_type": "display_data"
    }
   ],
   "source": [
    "df[\"sex\"].value_counts().plot(kind='pie', autopct='%1.1f%%')"
   ]
  },
  {
   "cell_type": "markdown",
   "id": "c2136b0b-cf50-4140-9bbc-3af089bcc63e",
   "metadata": {},
   "source": [
    "#### box plot"
   ]
  },
  {
   "cell_type": "code",
   "execution_count": 35,
   "id": "d3a0d737-f06b-411d-8496-1278ab1a4f39",
   "metadata": {},
   "outputs": [
    {
     "data": {
      "image/png": "[encoded data removed]",
      "text/plain": [
       "<Figure size 640x480 with 1 Axes>"
      ]
     },
     "metadata": {},
     "output_type": "display_data"
    }
   ],
   "source": [
    "df.plot(kind='box',y='age')\n",
    "plt.show()"
   ]
  },
  {
   "cell_type": "markdown",
   "id": "3e4bc671-5893-43bb-8a1f-f60a76b825d5",
   "metadata": {},
   "source": [
    "#### scatter plot"
   ]
  },
  {
   "cell_type": "code",
   "execution_count": 38,
   "id": "284b7dae-f5d1-4caf-80c1-62102247ab56",
   "metadata": {},
   "outputs": [
    {
     "data": {
      "text/plain": [
       "<Axes: title={'center': 'Batsman Run Chart'}, xlabel='Match', ylabel='Runs'>"
      ]
     },
     "execution_count": 38,
     "metadata": {},
     "output_type": "execute_result"
    },
    {
     "data": {
      "image/png": "[encoded data removed]",
      "text/plain": [
       "<Figure size 640x480 with 1 Axes>"
      ]
     },
     "metadata": {},
     "output_type": "display_data"
    }
   ],
   "source": [
    "df.plot(x='Match', y='Runs', kind='scatter', title='Batsman Run Chart')"
   ]
  },
  {
   "cell_type": "code",
   "execution_count": null,
   "id": "6fe05f03-9947-4a84-9685-f3601ae29709",
   "metadata": {},
   "outputs": [],
   "source": []
  }
 ],
 "metadata": {
  "kernelspec": {
   "display_name": "Python 3 (ipykernel)",
   "language": "python",
   "name": "python3"
  },
  "language_info": {
   "codemirror_mode": {
    "name": "ipython",
    "version": 3
   },
   "file_extension": ".py",
   "mimetype": "text/x-python",
   "name": "python",
   "nbconvert_exporter": "python",
   "pygments_lexer": "ipython3",
   "version": "3.13.5"
  }
 },
 "nbformat": 4,
 "nbformat_minor": 5
}
