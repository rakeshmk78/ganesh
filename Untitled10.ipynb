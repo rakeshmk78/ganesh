{
 "cells": [
  {
   "cell_type": "code",
   "execution_count": null,
   "id": "72f43d0f-76bf-4250-bb15-d9f51b8e9a52",
   "metadata": {},
   "outputs": [],
   "source": []
  }
 ],
 "metadata": {
  "kernelspec": {
   "display_name": "",
   "name": ""
  },
  "language_info": {
   "name": ""
  }
 },
 "nbformat": 4,
 "nbformat_minor": 5
}
