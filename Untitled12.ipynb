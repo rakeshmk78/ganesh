{
 "cells": [
  {
   "cell_type": "code",
   "execution_count": null,
   "id": "c3d8586c-e796-45e3-b073-0022e1f9a1a4",
   "metadata": {},
   "outputs": [],
   "source": []
  }
 ],
 "metadata": {
  "kernelspec": {
   "display_name": "",
   "name": ""
  },
  "language_info": {
   "name": ""
  }
 },
 "nbformat": 4,
 "nbformat_minor": 5
}
