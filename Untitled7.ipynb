{
 "cells": [
  {
   "cell_type": "code",
   "execution_count": null,
   "id": "cd9163c5-0a14-4ed4-9afe-493a4d6108f7",
   "metadata": {},
   "outputs": [],
   "source": []
  }
 ],
 "metadata": {
  "kernelspec": {
   "display_name": "",
   "name": ""
  },
  "language_info": {
   "name": ""
  }
 },
 "nbformat": 4,
 "nbformat_minor": 5
}
