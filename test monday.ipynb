{
 "cells": [
  {
   "cell_type": "code",
   "execution_count": 1,
   "id": "d3cc30c8-837b-4118-84bc-e181051eed45",
   "metadata": {},
   "outputs": [],
   "source": [
    "import numpy as np\n",
    "import pandas as pd\n",
    "import matplotlib.pyplot as plt"
   ]
  },
  {
   "cell_type": "code",
   "execution_count": 32,
   "id": "571ec1bb-26b4-479d-bf81-d75711df744d",
   "metadata": {},
   "outputs": [
    {
     "name": "stdout",
     "output_type": "stream",
     "text": [
      "     ename      type department  experiment  salary\n",
      "0    rohan   regular         cs          10   50000\n",
      "1     amar     adhoc         cs          20   15000\n",
      "2  ashwini   regular         ec           5   30000\n",
      "3    lohit     adhoc         ec          14   15000\n",
      "4    mohan  contract         cs           9   10000\n",
      "5   pramod   regular         ec           8   40000\n"
     ]
    }
   ],
   "source": [
    "data= {\n",
    "    \"ename\":[\"rohan\",\"amar\",\"ashwini\",\"lohit\",\"mohan\",\"pramod\"],\n",
    "    \"type\":[\"regular\",\"adhoc\",\"regular\",\"adhoc\",\"contract\",\"regular\"],\n",
    "    \"department\":[\"cs\",\"cs\",\"ec\",\"ec\",\"cs\",\"ec\"],\n",
    "    \"experiment\":[10,20,5,14,9,8],\n",
    "    \"salary\":[50000,15000,30000,15000,10000,40000]\n",
    "}\n",
    "df=pd.DataFrame(data)\n",
    "print(df)"
   ]
  },
  {
   "cell_type": "markdown",
   "id": "0c19a546-037f-410a-bbc4-1585851925ab",
   "metadata": {},
   "source": [
    "## mean values"
   ]
  },
  {
   "cell_type": "code",
   "execution_count": 33,
   "id": "04559f6c-1bac-47a2-9608-bfd0335e85f1",
   "metadata": {},
   "outputs": [
    {
     "data": {
      "text/plain": [
       "np.float64(26666.666666666668)"
      ]
     },
     "execution_count": 33,
     "metadata": {},
     "output_type": "execute_result"
    }
   ],
   "source": [
    "df['salary'].mean()\n"
   ]
  },
  {
   "cell_type": "code",
   "execution_count": 34,
   "id": "90a89368-3ab9-4b9d-99e8-6b48fbe7f468",
   "metadata": {},
   "outputs": [
    {
     "data": {
      "text/plain": [
       "np.int64(20)"
      ]
     },
     "execution_count": 34,
     "metadata": {},
     "output_type": "execute_result"
    }
   ],
   "source": [
    "df['experiment'].max()"
   ]
  },
  {
   "cell_type": "markdown",
   "id": "809ea947-e83f-4134-9f0e-4406bc151ca6",
   "metadata": {},
   "source": [
    "## avag salary in regular type"
   ]
  },
  {
   "cell_type": "code",
   "execution_count": 35,
   "id": "8ed2700d-7c63-4db8-b88e-5cea7bc823ec",
   "metadata": {},
   "outputs": [
    {
     "name": "stdout",
     "output_type": "stream",
     "text": [
      "40000.0\n"
     ]
    }
   ],
   "source": [
    "avg=df[df['type']== 'regular']['salary'].mean()\n",
    "print(avg)"
   ]
  },
  {
   "cell_type": "markdown",
   "id": "56f4fd2c-6d56-495a-864d-3f1115ba4e7a",
   "metadata": {},
   "source": [
    "## display the number of faculty in each type"
   ]
  },
  {
   "cell_type": "code",
   "execution_count": 36,
   "id": "6b71ecaa-da89-4277-9d0d-882e81d850cc",
   "metadata": {},
   "outputs": [
    {
     "name": "stdout",
     "output_type": "stream",
     "text": [
      "type\n",
      "regular     3\n",
      "adhoc       2\n",
      "contract    1\n",
      "Name: count, dtype: int64\n"
     ]
    }
   ],
   "source": [
    "f=df['type'].value_counts()\n",
    "print(f)"
   ]
  },
  {
   "cell_type": "code",
   "execution_count": 50,
   "id": "12d9d732-55d3-4e76-894a-6c90790f14e0",
   "metadata": {
    "scrolled": true
   },
   "outputs": [
    {
     "name": "stdout",
     "output_type": "stream",
     "text": [
      "   number  pencil  textbooks  drawingsheet  total_unit  profit\n",
      "0       1     300        250           100       700.0   80000\n",
      "1       2     350        350           125      1075.0    9500\n",
      "2       3     400        400           190      1320.0   10256\n",
      "3       4     500        420           210      1510.0   12000\n",
      "4       5     520        500           250         NaN   15000\n"
     ]
    }
   ],
   "source": [
    "data= {\n",
    "    \"number\":[1,2,3,4,5,],\n",
    "    \"pencil\":[300,350,400,500,520],\n",
    "    \"textbooks\":[250,350,400,420,500],\n",
    "    \"drawingsheet\":[100,125,190,210,250],\n",
    "    \"total_unit\":[700,1075,1320,1510,None],\n",
    "    \"profit\":[80000,9500,10256,12000,15000]\n",
    "}\n",
    "df=pd.DataFrame(data)\n",
    "print(df)"
   ]
  },
  {
   "cell_type": "markdown",
   "id": "d349e715-8fd5-490f-a146-7c95b4b08167",
   "metadata": {},
   "source": [
    "## statistical info"
   ]
  },
  {
   "cell_type": "code",
   "execution_count": 51,
   "id": "4e0b5820-645e-4c6e-9e2a-55a30b2360c9",
   "metadata": {},
   "outputs": [
    {
     "name": "stdout",
     "output_type": "stream",
     "text": [
      "<class 'pandas.core.frame.DataFrame'>\n",
      "RangeIndex: 5 entries, 0 to 4\n",
      "Data columns (total 6 columns):\n",
      " #   Column        Non-Null Count  Dtype  \n",
      "---  ------        --------------  -----  \n",
      " 0   number        5 non-null      int64  \n",
      " 1   pencil        5 non-null      int64  \n",
      " 2   textbooks     5 non-null      int64  \n",
      " 3   drawingsheet  5 non-null      int64  \n",
      " 4   total_unit    4 non-null      float64\n",
      " 5   profit        5 non-null      int64  \n",
      "dtypes: float64(1), int64(5)\n",
      "memory usage: 372.0 bytes\n"
     ]
    }
   ],
   "source": [
    "df.info()"
   ]
  },
  {
   "cell_type": "markdown",
   "id": "7c3a08df-b992-4271-b49f-c6711c31af23",
   "metadata": {},
   "source": [
    "## find the miising values"
   ]
  },
  {
   "cell_type": "code",
   "execution_count": 52,
   "id": "ce294b90-a668-43e1-aa6f-efe834f0d0cb",
   "metadata": {},
   "outputs": [
    {
     "data": {
      "text/plain": [
       "number          0\n",
       "pencil          0\n",
       "textbooks       0\n",
       "drawingsheet    0\n",
       "total_unit      1\n",
       "profit          0\n",
       "dtype: int64"
      ]
     },
     "execution_count": 52,
     "metadata": {},
     "output_type": "execute_result"
    }
   ],
   "source": [
    "df.isnull().sum()"
   ]
  },
  {
   "cell_type": "markdown",
   "id": "a3402079-14ce-4f11-89e8-28005f8af63b",
   "metadata": {},
   "source": [
    "## plot linegraph totall profit and numbers"
   ]
  },
  {
   "cell_type": "code",
   "execution_count": 53,
   "id": "25241b87-40e2-43a8-a541-231f8e1a1d76",
   "metadata": {},
   "outputs": [
    {
     "data": {
      "text/plain": [
       "<Axes: xlabel='number'>"
      ]
     },
     "execution_count": 53,
     "metadata": {},
     "output_type": "execute_result"
    },
    {
     "data": {
      "image/png": "[encoded data removed]",
      "text/plain": [
       "<Figure size 640x480 with 1 Axes>"
      ]
     },
     "metadata": {},
     "output_type": "display_data"
    }
   ],
   "source": [
    "import matplotlib.pyplot as plt\n",
    "\n",
    "\n",
    "df.plot(kind='line',x='number',y='profit')\n"
   ]
  },
  {
   "cell_type": "code",
   "execution_count": 54,
   "id": "b8ba3afc-9b5f-41f1-9553-17a14ec1c144",
   "metadata": {},
   "outputs": [
    {
     "data": {
      "text/plain": [
       "<Axes: xlabel='number'>"
      ]
     },
     "execution_count": 54,
     "metadata": {},
     "output_type": "execute_result"
    },
    {
     "data": {
      "image/png": "[encoded data removed]",
      "text/plain": [
       "<Figure size 640x480 with 1 Axes>"
      ]
     },
     "metadata": {},
     "output_type": "display_data"
    }
   ],
   "source": [
    "df.plot('number','profit',kind='line',)\n"
   ]
  },
  {
   "cell_type": "code",
   "execution_count": 55,
   "id": "954137f2-8376-41c4-b5a0-4a323490070b",
   "metadata": {},
   "outputs": [
    {
     "name": "stdout",
     "output_type": "stream",
     "text": [
      "250\n"
     ]
    }
   ],
   "source": [
    "m=df['drawingsheet'].max()\n",
    "print(m)"
   ]
  },
  {
   "cell_type": "code",
   "execution_count": null,
   "id": "fccf4c32-04fa-411f-b057-db8e8193d16a",
   "metadata": {},
   "outputs": [],
   "source": []
  },
  {
   "cell_type": "code",
   "execution_count": null,
   "id": "fec4fb3f-2216-4be7-937a-d375078e7316",
   "metadata": {},
   "outputs": [],
   "source": []
  }
 ],
 "metadata": {
  "kernelspec": {
   "display_name": "Python 3 (ipykernel)",
   "language": "python",
   "name": "python3"
  },
  "language_info": {
   "codemirror_mode": {
    "name": "ipython",
    "version": 3
   },
   "file_extension": ".py",
   "mimetype": "text/x-python",
   "name": "python",
   "nbconvert_exporter": "python",
   "pygments_lexer": "ipython3",
   "version": "3.13.5"
  }
 },
 "nbformat": 4,
 "nbformat_minor": 5
}
